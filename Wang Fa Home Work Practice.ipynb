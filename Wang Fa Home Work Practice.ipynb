{
 "cells": [
  {
   "cell_type": "markdown",
   "id": "56f2dde8",
   "metadata": {},
   "source": [
    "# Python Fundamentals"
   ]
  },
  {
   "cell_type": "markdown",
   "id": "034ce2ab",
   "metadata": {},
   "source": [
    "## Comments"
   ]
  },
  {
   "cell_type": "markdown",
   "id": "612764e0",
   "metadata": {},
   "source": [
    "- Comments are pieces of text in a programming language that are not executed but are meant to provide additional information and context to understanding the logic and structure of code\n",
    "- In python the # character is used to denote a comment "
   ]
  },
  {
   "cell_type": "markdown",
   "id": "bbd0d502",
   "metadata": {},
   "source": [
    "## Variables "
   ]
  },
  {
   "cell_type": "markdown",
   "id": "26190ee6",
   "metadata": {},
   "source": [
    "- Every programming language has variables which a a method to store data that can be used by the program at different stages. \n",
    "- The data type stored in a variable can include a number, a string, a Boolean (true or false), a list or some other data type. \n",
    "- Every variable is assigned a name that can consists of numbers, letters and the underscore character.\n",
    "- A value is assigned to a variable using an  \"=\"  sign."
   ]
  },
  {
   "cell_type": "code",
   "execution_count": 1,
   "id": "12bbd4b7",
   "metadata": {},
   "outputs": [],
   "source": [
    "# These are all valid variable names and assignment\n",
    " \n",
    "user_name = \"irtiza\" # String \n",
    "user_id = 50 # Integer\n",
    "identity_confirmed = False # Boolean"
   ]
  },
  {
   "cell_type": "markdown",
   "id": "813a9bcf",
   "metadata": {},
   "source": [
    "- Now lets check the value assigned and see how it can be called back.\n",
    "\n",
    "- \"print(  )\" is a python function that is used to display an output to screen or to the console. It takes one or   more arguments and will output each of the arguments to the console separated by a space."
   ]
  },
  {
   "cell_type": "code",
   "execution_count": 3,
   "id": "c80b6b0a",
   "metadata": {},
   "outputs": [
    {
     "name": "stdout",
     "output_type": "stream",
     "text": [
      "irtiza\n"
     ]
    }
   ],
   "source": [
    "print(user_name) # In this case we are printing out the value of the variable \"user_name\""
   ]
  },
  {
   "cell_type": "markdown",
   "id": "0467bbf4",
   "metadata": {},
   "source": [
    "- The value of a variable can be reassigned at any point \n",
    "\n",
    "- Lets print the value of user_id"
   ]
  },
  {
   "cell_type": "code",
   "execution_count": 4,
   "id": "eeeff5b7",
   "metadata": {},
   "outputs": [
    {
     "name": "stdout",
     "output_type": "stream",
     "text": [
      "50\n"
     ]
    }
   ],
   "source": [
    "print(user_id)"
   ]
  },
  {
   "cell_type": "markdown",
   "id": "c0b6f913",
   "metadata": {},
   "source": [
    "- Now as we can see the value of the user_id is 50 we can reassign a new value to it\n",
    "- We now want the user_id to have a value of 100"
   ]
  },
  {
   "cell_type": "code",
   "execution_count": 5,
   "id": "28fedea7",
   "metadata": {},
   "outputs": [
    {
     "name": "stdout",
     "output_type": "stream",
     "text": [
      "100\n"
     ]
    }
   ],
   "source": [
    "user_id = 100 # Reassigning new value to variable.\n",
    "print(user_id) # Checking the newly assigned value and confirming it's replaced the old one."
   ]
  },
  {
   "cell_type": "markdown",
   "id": "910f3f74",
   "metadata": {},
   "source": [
    "## Strings"
   ]
  },
  {
   "cell_type": "markdown",
   "id": "2a722b57",
   "metadata": {},
   "source": [
    "- A string is a sequence of characters (could include numbers, letters, white space or punctuation) enclosed by doubble quotation marks \" \" or single ' '.\n",
    "- If a string has to be broken into multiple lines then a backslash character can be used \"\\\" to indicate that the string continues on the next line."
   ]
  },
  {
   "cell_type": "code",
   "execution_count": 5,
   "id": "880ad7cd",
   "metadata": {},
   "outputs": [],
   "source": [
    "name = \"John Doe\"\n",
    "sex = 'Male'\n",
    " \n",
    "longer_string = \"This string is broken up \\\n",
    "over multiple lines\""
   ]
  },
  {
   "cell_type": "code",
   "execution_count": 9,
   "id": "ac101ed7",
   "metadata": {
    "scrolled": true
   },
   "outputs": [
    {
     "name": "stdout",
     "output_type": "stream",
     "text": [
      "This string is broken up over multiple lines\n"
     ]
    }
   ],
   "source": [
    "print(longer_string)"
   ]
  },
  {
   "cell_type": "markdown",
   "id": "1f54c53c",
   "metadata": {},
   "source": [
    "## Arthmetic Operations"
   ]
  },
  {
   "cell_type": "markdown",
   "id": "8700e932",
   "metadata": {},
   "source": [
    "Python supports differnet type of arthemetic operations that can be performed on varibales, numbers or a combination. The common one are as follows\n",
    "- ( + ) for addition\n",
    "- ( - ) for subtraction\n",
    "- ( * ) for multiplication\n",
    "- ( / ) for division\n",
    "- ( % ) for modulus (returns the remainder)\n",
    "- ( ** ) for exponentiation"
   ]
  },
  {
   "cell_type": "code",
   "execution_count": 11,
   "id": "f00df984",
   "metadata": {},
   "outputs": [],
   "source": [
    "addition = 5 + 10\n",
    "subtraction = 15 - 5\n",
    "multiply = 30 * 5\n",
    "divide = 16 / 4\n",
    "remainder = 25 % 2\n",
    "exponent  = 5 ** 2 # 5 to the power of 2"
   ]
  },
  {
   "cell_type": "markdown",
   "id": "bf32f8ae",
   "metadata": {},
   "source": [
    "## Lists"
   ]
  },
  {
   "cell_type": "markdown",
   "id": "bb8f384f",
   "metadata": {},
   "source": [
    "- Lists are an ordered collection of items that allow for easily storing and retrival of data.\n",
    "- List values are places between square [ ] brackets, seperated by commas.\n",
    "- A good practice is to put space between the comma and the next value.\n",
    "- Same values can be repeated in a list.\n",
    "- You can also create an empty list and add values to it late using the append function."
   ]
  },
  {
   "cell_type": "code",
   "execution_count": 20,
   "id": "bfe0e52b",
   "metadata": {},
   "outputs": [
    {
     "name": "stdout",
     "output_type": "stream",
     "text": [
      "['Apple', 'Orange', 'Banana', 'Raspberry']\n"
     ]
    }
   ],
   "source": [
    "fruits = [\"Apple\", \"Orange\", \"Banana\", \"Raspberry\"] # Need to be stored as strings \n",
    "print(fruits)"
   ]
  },
  {
   "cell_type": "code",
   "execution_count": 21,
   "id": "93f97811",
   "metadata": {},
   "outputs": [
    {
     "name": "stdout",
     "output_type": "stream",
     "text": [
      "Raspberry\n"
     ]
    }
   ],
   "source": [
    "print(fruits[])"
   ]
  },
  {
   "cell_type": "code",
   "execution_count": 22,
   "id": "38719e69",
   "metadata": {
    "scrolled": false
   },
   "outputs": [
    {
     "name": "stdout",
     "output_type": "stream",
     "text": [
      "Banana\n"
     ]
    }
   ],
   "source": [
    "# Access the third item from the list \n",
    "# Count starts from 0 not 1 \n",
    "print(fruits[2])"
   ]
  },
  {
   "cell_type": "markdown",
   "id": "8ec1610c",
   "metadata": {},
   "source": [
    "### Append Function"
   ]
  },
  {
   "cell_type": "code",
   "execution_count": 10,
   "id": "2ab4e44a",
   "metadata": {},
   "outputs": [
    {
     "name": "stdout",
     "output_type": "stream",
     "text": [
      "['Apple', 'Orange', 'Banana', 'Raspberry', 'Strawberry']\n"
     ]
    }
   ],
   "source": [
    "# Now lets see how we append a value to an existing list or an empty list\n",
    "# Let's add  to this this existing list.\n",
    "\n",
    "fruits.append(\"Strawberry\") \n",
    "\n",
    "print(fruits) # Check if \"Strawberry\" is now added to our list "
   ]
  },
  {
   "cell_type": "markdown",
   "id": "c366869a",
   "metadata": {},
   "source": [
    "## Loops"
   ]
  },
  {
   "cell_type": "markdown",
   "id": "70681471",
   "metadata": {},
   "source": [
    "### For Loop"
   ]
  },
  {
   "cell_type": "markdown",
   "id": "2a51d625",
   "metadata": {},
   "source": [
    "- A python for loop can be used to iterate over a list of items or perform actions on each item.\n",
    "- Indentations are very important within all loops otherwise you may get an indentation error. "
   ]
  },
  {
   "cell_type": "code",
   "execution_count": 44,
   "id": "47887f60",
   "metadata": {},
   "outputs": [
    {
     "name": "stdout",
     "output_type": "stream",
     "text": [
      "1\n",
      "2\n",
      "3\n",
      "4\n",
      "5\n"
     ]
    }
   ],
   "source": [
    "# Let's write an example for loop \n",
    "\n",
    "#each num in nums will be printed below\n",
    "numbers = [1,2,3,4,5] # A list of numbers \n",
    "\n",
    "for num in numbers: \n",
    "  print(num)\n",
    "\n",
    "# Format \n",
    "# for <temporary variable> in <list variable>:\n",
    "#   <action statement>\n",
    "#   <action statement>"
   ]
  },
  {
   "cell_type": "code",
   "execution_count": 74,
   "id": "e2fc62e6",
   "metadata": {
    "scrolled": false
   },
   "outputs": [
    {
     "name": "stdout",
     "output_type": "stream",
     "text": [
      "5\n"
     ]
    }
   ],
   "source": [
    "print(numbers[4])"
   ]
  },
  {
   "cell_type": "markdown",
   "id": "90b6d8ba",
   "metadata": {},
   "source": [
    "### While Loop"
   ]
  },
  {
   "cell_type": "markdown",
   "id": "c9850e14",
   "metadata": {},
   "source": [
    "- A while loop will repeatedly execute a code block until a condition is satisfied."
   ]
  },
  {
   "cell_type": "code",
   "execution_count": 76,
   "id": "8c7c7e72",
   "metadata": {
    "scrolled": true
   },
   "outputs": [
    {
     "name": "stdout",
     "output_type": "stream",
     "text": [
      "1\n",
      "2\n",
      "3\n",
      "4\n",
      "5\n"
     ]
    }
   ],
   "source": [
    "# This loop will run five times until the condition is true\n",
    "\n",
    "i = 1\n",
    "while i < 6:\n",
    "  print(i)\n",
    "  i = i + 1"
   ]
  },
  {
   "cell_type": "markdown",
   "id": "b3b11a4b",
   "metadata": {},
   "source": [
    "### Nested Loops"
   ]
  },
  {
   "cell_type": "markdown",
   "id": "e7bb6f3f",
   "metadata": {},
   "source": [
    "- A nested loop is when a loop is placed within another loop.\n",
    "- Nested loops can be used to access items of lists which are inside other lists. The item selected from the outer loop can be used as the list for the inner loop to iterate over."
   ]
  },
  {
   "cell_type": "code",
   "execution_count": 100,
   "id": "8135f77e",
   "metadata": {},
   "outputs": [
    {
     "name": "stdout",
     "output_type": "stream",
     "text": [
      "Jobs\n",
      "Gates\n",
      "Newton\n",
      "Euclid\n",
      "Einstein\n",
      "Feynman\n"
     ]
    }
   ],
   "source": [
    "nested_list = [[\"Jobs\", \"Gates\"], [\"Newton\", \"Euclid\"], [\"Einstein\", \"Feynman\"]]\n",
    " \n",
    "# This outer loop will iterate over each list in the nested list\n",
    "for list in nested_list:\n",
    "  # This inner loop will go through each name in each list\n",
    "  for name in list:\n",
    "    print(name)"
   ]
  },
  {
   "cell_type": "code",
   "execution_count": 101,
   "id": "e8b75e63",
   "metadata": {},
   "outputs": [
    {
     "name": "stdout",
     "output_type": "stream",
     "text": [
      "Einstein\n",
      "Feynman\n"
     ]
    }
   ],
   "source": [
    "for name in list:\n",
    "    print(name)"
   ]
  },
  {
   "cell_type": "code",
   "execution_count": 93,
   "id": "7c4bd50c",
   "metadata": {},
   "outputs": [
    {
     "name": "stdout",
     "output_type": "stream",
     "text": [
      "['Jobs', 'Gates']\n",
      "['Newton', 'Euclid']\n",
      "['Einstein', 'Feynman']\n"
     ]
    }
   ],
   "source": [
    "for list in nested_list:\n",
    "    print(list)"
   ]
  },
  {
   "cell_type": "markdown",
   "id": "88cb75b6",
   "metadata": {},
   "source": [
    "## Conditional Statments"
   ]
  },
  {
   "cell_type": "markdown",
   "id": "f6278d06",
   "metadata": {},
   "source": [
    "Python support a number of logical conditions such as \n",
    "- Equals: a == b\n",
    "- Not Equals: a != b\n",
    "- Less than: a < b\n",
    "- Less than or equal to: a <= b\n",
    "- Greater than: a > b\n",
    "- Greater than or equal to: a >= b\n",
    "\n",
    "These conditions can be used in a number of way most commonly in if statments and loops."
   ]
  },
  {
   "cell_type": "markdown",
   "id": "dd597d8b",
   "metadata": {},
   "source": [
    "### If Statment"
   ]
  },
  {
   "cell_type": "code",
   "execution_count": 39,
   "id": "76ecdb1c",
   "metadata": {},
   "outputs": [
    {
     "name": "stdout",
     "output_type": "stream",
     "text": [
      "a is greater than b\n"
     ]
    }
   ],
   "source": [
    "# If statment \n",
    "\n",
    "a = 20\n",
    "b = 10\n",
    "\n",
    "if a > b:\n",
    "    print(\"a is greater than b\")\n",
    "    "
   ]
  },
  {
   "cell_type": "markdown",
   "id": "6982c4d2",
   "metadata": {},
   "source": [
    "### Elif "
   ]
  },
  {
   "cell_type": "markdown",
   "id": "89e681bc",
   "metadata": {},
   "source": [
    "- Elif is a way of stating that if the previous condition was not fulfilled then try this condition"
   ]
  },
  {
   "cell_type": "code",
   "execution_count": 48,
   "id": "960766c4",
   "metadata": {},
   "outputs": [
    {
     "name": "stdout",
     "output_type": "stream",
     "text": [
      "a and b are equal\n"
     ]
    }
   ],
   "source": [
    "a = 20\n",
    "b = 20\n",
    "\n",
    "if a > b:\n",
    "    print(\"a is greater than b\")\n",
    "elif a == b:\n",
    "    print(\"a and b are equal\")"
   ]
  },
  {
   "cell_type": "markdown",
   "id": "bb635248",
   "metadata": {},
   "source": [
    "### Else"
   ]
  },
  {
   "cell_type": "markdown",
   "id": "668f0988",
   "metadata": {},
   "source": [
    "- The else keyword catches anything which isn't caught by the preceding conditions."
   ]
  },
  {
   "cell_type": "code",
   "execution_count": 49,
   "id": "2af82a2a",
   "metadata": {},
   "outputs": [
    {
     "name": "stdout",
     "output_type": "stream",
     "text": [
      "a is greater than b\n"
     ]
    }
   ],
   "source": [
    "a = 200\n",
    "b = 33\n",
    "\n",
    "if b > a:\n",
    "  print(\"b is greater than a\")\n",
    "elif a == b:\n",
    "  print(\"a and b are equal\")\n",
    "else:\n",
    "  print(\"a is greater than b\")"
   ]
  },
  {
   "cell_type": "markdown",
   "id": "c57ed05c",
   "metadata": {},
   "source": [
    "## Len Function"
   ]
  },
  {
   "cell_type": "code",
   "execution_count": 52,
   "id": "3a5c401f",
   "metadata": {},
   "outputs": [
    {
     "name": "stdout",
     "output_type": "stream",
     "text": [
      "Length of fruits = 4\n"
     ]
    }
   ],
   "source": [
    "fruits = [\"Apple\", \"Orange\", \"Banana\", \"Raspberry\"] \n",
    "\n",
    "print(\"Length of fruits =\", len(fruits))"
   ]
  },
  {
   "cell_type": "code",
   "execution_count": 53,
   "id": "91b91d47",
   "metadata": {},
   "outputs": [
    {
     "name": "stdout",
     "output_type": "stream",
     "text": [
      "0 Apple\n",
      "1 Orange\n",
      "2 Banana\n",
      "3 Raspberry\n"
     ]
    }
   ],
   "source": [
    "i = 0\n",
    "while i < len(fruits):\n",
    "    print(i, fruits[i])\n",
    "    i = i+1"
   ]
  },
  {
   "cell_type": "code",
   "execution_count": 55,
   "id": "f768bca0",
   "metadata": {},
   "outputs": [
    {
     "name": "stdout",
     "output_type": "stream",
     "text": [
      "1 Orange\n",
      "2 Banana\n",
      "3 Raspberry\n"
     ]
    },
    {
     "ename": "IndexError",
     "evalue": "list index out of range",
     "output_type": "error",
     "traceback": [
      "\u001b[0;31m---------------------------------------------------------------------------\u001b[0m",
      "\u001b[0;31mIndexError\u001b[0m                                Traceback (most recent call last)",
      "\u001b[0;32m/var/folders/4l/xm5jn32j517d842_nfd4nvymkgphp6/T/ipykernel_95361/4127563813.py\u001b[0m in \u001b[0;36m<module>\u001b[0;34m\u001b[0m\n\u001b[1;32m      3\u001b[0m \u001b[0;32mwhile\u001b[0m \u001b[0mi\u001b[0m \u001b[0;34m<\u001b[0m \u001b[0mlen\u001b[0m\u001b[0;34m(\u001b[0m\u001b[0mfruits\u001b[0m\u001b[0;34m)\u001b[0m\u001b[0;34m:\u001b[0m\u001b[0;34m\u001b[0m\u001b[0;34m\u001b[0m\u001b[0m\n\u001b[1;32m      4\u001b[0m     \u001b[0mi\u001b[0m \u001b[0;34m=\u001b[0m \u001b[0mi\u001b[0m\u001b[0;34m+\u001b[0m\u001b[0;36m1\u001b[0m\u001b[0;34m\u001b[0m\u001b[0;34m\u001b[0m\u001b[0m\n\u001b[0;32m----> 5\u001b[0;31m     \u001b[0mprint\u001b[0m\u001b[0;34m(\u001b[0m\u001b[0mi\u001b[0m\u001b[0;34m,\u001b[0m \u001b[0mfruits\u001b[0m\u001b[0;34m[\u001b[0m\u001b[0mi\u001b[0m\u001b[0;34m]\u001b[0m\u001b[0;34m)\u001b[0m\u001b[0;34m\u001b[0m\u001b[0;34m\u001b[0m\u001b[0m\n\u001b[0m",
      "\u001b[0;31mIndexError\u001b[0m: list index out of range"
     ]
    }
   ],
   "source": [
    "# Common Error: if i is incremneted before print statment then within the print statment it'll be 1 instead of 0\n",
    "i = 0\n",
    "while i < len(fruits):\n",
    "    i = i+1\n",
    "    print(i, fruits[i])  "
   ]
  },
  {
   "cell_type": "markdown",
   "id": "4009ac60",
   "metadata": {},
   "source": [
    "## Declaring Functions"
   ]
  },
  {
   "cell_type": "markdown",
   "id": "fb5d0a73",
   "metadata": {},
   "source": [
    "A function is a block of code that is only run when it is called. "
   ]
  },
  {
   "cell_type": "code",
   "execution_count": 46,
   "id": "2b651519",
   "metadata": {},
   "outputs": [],
   "source": [
    "def my_function(name):\n",
    "  print(name + \" is an A grade student\")"
   ]
  },
  {
   "cell_type": "code",
   "execution_count": 47,
   "id": "b92b138e",
   "metadata": {},
   "outputs": [
    {
     "name": "stdout",
     "output_type": "stream",
     "text": [
      "Emil is an A grade student\n",
      "Tobias is an A grade student\n",
      "Linus is an A grade student\n"
     ]
    }
   ],
   "source": [
    "my_function(\"Emil\")\n",
    "my_function(\"Tobias\")\n",
    "my_function(\"Linus\")"
   ]
  },
  {
   "cell_type": "markdown",
   "id": "660464a7",
   "metadata": {},
   "source": [
    "## User Input "
   ]
  },
  {
   "cell_type": "markdown",
   "id": "bc0c5c94",
   "metadata": {},
   "source": [
    "As the name implies this method is used to get input from the user."
   ]
  },
  {
   "cell_type": "code",
   "execution_count": 114,
   "id": "3622502f",
   "metadata": {
    "scrolled": true
   },
   "outputs": [
    {
     "name": "stdout",
     "output_type": "stream",
     "text": [
      "Enter username:Fa\n"
     ]
    }
   ],
   "source": [
    "# This take the input from user and stores it in the varibale username \n",
    "username = input(\"Enter username:\")"
   ]
  },
  {
   "cell_type": "code",
   "execution_count": 115,
   "id": "346756c2",
   "metadata": {},
   "outputs": [
    {
     "data": {
      "text/plain": [
       "'Fa'"
      ]
     },
     "execution_count": 115,
     "metadata": {},
     "output_type": "execute_result"
    }
   ],
   "source": [
    "# Let's now check if the user input has been stored in the variable\n",
    "username"
   ]
  },
  {
   "cell_type": "markdown",
   "id": "557f6cf7",
   "metadata": {},
   "source": [
    " "
   ]
  },
  {
   "cell_type": "markdown",
   "id": "f0d28f5b",
   "metadata": {},
   "source": [
    "# Exercise 1: Print First 10 natural numbers using while loop"
   ]
  },
  {
   "cell_type": "code",
   "execution_count": 57,
   "id": "68d6b17d",
   "metadata": {},
   "outputs": [],
   "source": [
    "# Expected Output\n",
    "\n",
    "# 1\n",
    "# 2\n",
    "# 3\n",
    "# 4\n",
    "# 5\n",
    "# 6\n",
    "# 7\n",
    "# 8\n",
    "# 9\n",
    "# 10"
   ]
  },
  {
   "cell_type": "code",
   "execution_count": 120,
   "id": "c2a54301",
   "metadata": {},
   "outputs": [
    {
     "name": "stdout",
     "output_type": "stream",
     "text": [
      "1\n",
      "2\n",
      "3\n",
      "4\n",
      "5\n",
      "6\n",
      "7\n",
      "8\n",
      "9\n",
      "10\n"
     ]
    }
   ],
   "source": [
    "# Solution\n",
    "\n",
    "i = 1\n",
    "while i < 11:\n",
    "    print(i)\n",
    "    i = i + 1"
   ]
  },
  {
   "cell_type": "code",
   "execution_count": 129,
   "id": "5ad3430d",
   "metadata": {},
   "outputs": [
    {
     "name": "stdout",
     "output_type": "stream",
     "text": [
      "10\n",
      "9\n",
      "8\n",
      "7\n",
      "6\n",
      "5\n",
      "4\n",
      "3\n",
      "2\n",
      "1\n"
     ]
    }
   ],
   "source": [
    "# Solution with reverse order\n",
    "\n",
    "i = 10\n",
    "while i > 0:\n",
    "    print(i)\n",
    "    i = i - 1"
   ]
  },
  {
   "cell_type": "markdown",
   "id": "7ff1fd4f",
   "metadata": {},
   "source": [
    "# Exercise 2: Print list in reverse order using a loop"
   ]
  },
  {
   "cell_type": "code",
   "execution_count": 142,
   "id": "366df74a",
   "metadata": {},
   "outputs": [],
   "source": [
    "# Given\n",
    "\n",
    "list1 = [10, 20, 30, 40, 50]\n",
    "# Hint: Look at the reversed function in Python"
   ]
  },
  {
   "cell_type": "code",
   "execution_count": 158,
   "id": "b09b0db2",
   "metadata": {},
   "outputs": [
    {
     "ename": "TypeError",
     "evalue": "'list' object is not callable",
     "output_type": "error",
     "traceback": [
      "\u001b[0;31m---------------------------------------------------------------------------\u001b[0m",
      "\u001b[0;31mTypeError\u001b[0m                                 Traceback (most recent call last)",
      "Input \u001b[0;32mIn [158]\u001b[0m, in \u001b[0;36m<cell line: 2>\u001b[0;34m()\u001b[0m\n\u001b[1;32m      1\u001b[0m \u001b[38;5;66;03m# Solution\u001b[39;00m\n\u001b[0;32m----> 2\u001b[0m \u001b[38;5;28mprint\u001b[39m(\u001b[43mlist1\u001b[49m\u001b[43m(\u001b[49m\u001b[38;5;28;43mreversed\u001b[39;49m\u001b[43m)\u001b[49m)\n",
      "\u001b[0;31mTypeError\u001b[0m: 'list' object is not callable"
     ]
    }
   ],
   "source": [
    "# Solution\n",
    "print(list1(reversed))"
   ]
  },
  {
   "cell_type": "markdown",
   "id": "13663d4e",
   "metadata": {},
   "source": [
    "# Exercise 3: Write a for loop that iterates through a string and prints every letter."
   ]
  },
  {
   "cell_type": "code",
   "execution_count": 155,
   "id": "6c6ec1d9",
   "metadata": {},
   "outputs": [],
   "source": [
    "# Given\n",
    "\n",
    "str=\"London\""
   ]
  },
  {
   "cell_type": "code",
   "execution_count": 156,
   "id": "479ea7da",
   "metadata": {
    "scrolled": true
   },
   "outputs": [
    {
     "name": "stdout",
     "output_type": "stream",
     "text": [
      "L\n",
      "o\n",
      "n\n",
      "d\n",
      "o\n",
      "n\n"
     ]
    }
   ],
   "source": [
    "# Solution\n",
    "for str in \"London\":\n",
    "  print(str)"
   ]
  },
  {
   "cell_type": "code",
   "execution_count": 167,
   "id": "a63a69d3",
   "metadata": {},
   "outputs": [],
   "source": [
    "# Guys I am seeking a hand for another solution for multiple cities.\n",
    "\n",
    "str='London','Manchester','Beijing','Shanghai'"
   ]
  },
  {
   "cell_type": "markdown",
   "id": "0a705fb2",
   "metadata": {},
   "source": [
    "# Exercise 4: Using a for loop and .append() method to append each item in the list to a new list with a Dr. prefix added to each name."
   ]
  },
  {
   "cell_type": "code",
   "execution_count": 177,
   "id": "c027314f",
   "metadata": {},
   "outputs": [],
   "source": [
    "# Given\n",
    "\n",
    "list=[\"Phil\", \"Oz\", \"Seuss\", \"Dre\"]\n",
    "\n",
    "# Expected Output \n",
    "\n",
    "# list = [\"Dr. Phil\", \"Dr. Oz\"...]"
   ]
  },
  {
   "cell_type": "code",
   "execution_count": 189,
   "id": "7fc1fcff",
   "metadata": {},
   "outputs": [
    {
     "ename": "AttributeError",
     "evalue": "'str' object has no attribute 'append'",
     "output_type": "error",
     "traceback": [
      "\u001b[0;31m---------------------------------------------------------------------------\u001b[0m",
      "\u001b[0;31mAttributeError\u001b[0m                            Traceback (most recent call last)",
      "Input \u001b[0;32mIn [189]\u001b[0m, in \u001b[0;36m<cell line: 3>\u001b[0;34m()\u001b[0m\n\u001b[1;32m      2\u001b[0m a\u001b[38;5;241m=\u001b[39m\u001b[38;5;124m'\u001b[39m\u001b[38;5;124mDr.\u001b[39m\u001b[38;5;124m'\u001b[39m\n\u001b[1;32m      3\u001b[0m \u001b[38;5;28;01mfor\u001b[39;00m \u001b[38;5;28mlist\u001b[39m \u001b[38;5;129;01min\u001b[39;00m \u001b[38;5;124m\"\u001b[39m\u001b[38;5;124mPhil\u001b[39m\u001b[38;5;124m\"\u001b[39m, \u001b[38;5;124m\"\u001b[39m\u001b[38;5;124mOz\u001b[39m\u001b[38;5;124m\"\u001b[39m, \u001b[38;5;124m\"\u001b[39m\u001b[38;5;124mSeuss\u001b[39m\u001b[38;5;124m\"\u001b[39m, \u001b[38;5;124m\"\u001b[39m\u001b[38;5;124mDre\u001b[39m\u001b[38;5;124m\"\u001b[39m:\n\u001b[0;32m----> 4\u001b[0m     a\u001b[38;5;241m=\u001b[39m\u001b[43ma\u001b[49m\u001b[38;5;241;43m.\u001b[39;49m\u001b[43mappend\u001b[49m(\u001b[38;5;28mlist\u001b[39m)\n\u001b[1;32m      5\u001b[0m     \u001b[38;5;28mprint\u001b[39m(\u001b[38;5;28mlist\u001b[39m)\n",
      "\u001b[0;31mAttributeError\u001b[0m: 'str' object has no attribute 'append'"
     ]
    }
   ],
   "source": [
    "# Solution\n",
    "a='Dr.'\n",
    "for list in \"Phil\", \"Oz\", \"Seuss\", \"Dre\":\n",
    "    a=a.append(list)\n",
    "    print(list)"
   ]
  },
  {
   "cell_type": "code",
   "execution_count": null,
   "id": "1a37c954",
   "metadata": {},
   "outputs": [],
   "source": []
  }
 ],
 "metadata": {
  "kernelspec": {
   "display_name": "Python 3 (ipykernel)",
   "language": "python",
   "name": "python3"
  },
  "language_info": {
   "codemirror_mode": {
    "name": "ipython",
    "version": 3
   },
   "file_extension": ".py",
   "mimetype": "text/x-python",
   "name": "python",
   "nbconvert_exporter": "python",
   "pygments_lexer": "ipython3",
   "version": "3.9.12"
  }
 },
 "nbformat": 4,
 "nbformat_minor": 5
}
